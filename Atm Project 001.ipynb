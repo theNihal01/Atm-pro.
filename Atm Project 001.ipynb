{
 "cells": [
  {
   "cell_type": "code",
   "execution_count": null,
   "id": "33e3ea68",
   "metadata": {},
   "outputs": [],
   "source": [
    "#ATM Machine\n",
    "import time\n",
    "print('Welcome to Data Space, ATM Machine Project')\n",
    "print('Please insert your card')\n",
    "time.sleep(1)\n",
    "password=1234\n",
    "pin=int(input('Please enter your Atm pin: '))\n",
    "Balance=5000\n",
    "while pin:\n",
    "    \n",
    "    if pin==password:\n",
    "        \n",
    "        print(''' \n",
    "    1== Balance Check\n",
    "    2== Withdraw Amount\n",
    "    3== Deposit Balance\n",
    "    4== Pin Change\n",
    "    5== Exit.\n",
    "    ''')\n",
    "    try:\n",
    "        option=int(input('Please Enter options :'))\n",
    "    except:\n",
    "        print('print enter valid option')\n",
    "    if option==1:\n",
    "        print('your current balnce is :',Balance)\n",
    "    if option==2:\n",
    "        Withdraw_Amount=int(input('Please enter Withdraw amount: '))\n",
    "        Balance=Balance-Withdraw_Amount\n",
    "        print(Withdraw_Amount,'is debited from your account')\n",
    "        print('Your current balance is: ',Balance)\n",
    "    if option==3:\n",
    "        deposit_amount=int(input('Please Enter deposit amount: '))\n",
    "        Balance=Balance+deposit_amount\n",
    "        print(Balance,'is credited your account')\n",
    "    if option==4:\n",
    "        \n",
    "        pin=int(input('Please enter new 4 digit pin: '))\n",
    "        \n",
    "        pin1=int(input('Please confirm 4 digit pin: '))\n",
    "        \n",
    "        \n",
    "        print('Successfully Pin is Changed', pin1)\n",
    "    if option==5:\n",
    "        print('Thank you Visit again')\n",
    "        break\n",
    "else:\n",
    "    print(' Wrong Pin Please try again ')"
   ]
  }
 ],
 "metadata": {
  "kernelspec": {
   "display_name": "Python 3 (ipykernel)",
   "language": "python",
   "name": "python3"
  },
  "language_info": {
   "codemirror_mode": {
    "name": "ipython",
    "version": 3
   },
   "file_extension": ".py",
   "mimetype": "text/x-python",
   "name": "python",
   "nbconvert_exporter": "python",
   "pygments_lexer": "ipython3",
   "version": "3.10.7"
  }
 },
 "nbformat": 4,
 "nbformat_minor": 5
}
